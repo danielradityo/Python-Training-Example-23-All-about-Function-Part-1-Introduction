{
 "cells": [
  {
   "cell_type": "markdown",
   "metadata": {},
   "source": [
    "# Python Training Example #23 All about Function Part 1 Introduction"
   ]
  },
  {
   "cell_type": "markdown",
   "metadata": {},
   "source": [
    "## Def as Defined function"
   ]
  },
  {
   "cell_type": "code",
   "execution_count": 1,
   "metadata": {},
   "outputs": [
    {
     "name": "stdout",
     "output_type": "stream",
     "text": [
      "Here an example to create a string function\n",
      "Use def name_function(): then create your own function\n"
     ]
    }
   ],
   "source": [
    "# Create a small function\n",
    "def create_function():\n",
    "    print('Here an example to create a string function')\n",
    "    print('Use def name_function(): then create your own function')\n",
    "create_function()"
   ]
  },
  {
   "cell_type": "markdown",
   "metadata": {},
   "source": [
    "## Def function with argument"
   ]
  },
  {
   "cell_type": "code",
   "execution_count": 4,
   "metadata": {},
   "outputs": [
    {
     "name": "stdout",
     "output_type": "stream",
     "text": [
      "You can call me  Daniel then my last name is  Radityo\n"
     ]
    }
   ],
   "source": [
    "# Create def function with argument\n",
    "def function_argument(firstname, lastname):\n",
    "    print('You can call me ', firstname, 'then my last name is ', lastname)\n",
    "function_argument('Daniel', 'Radityo')"
   ]
  },
  {
   "cell_type": "code",
   "execution_count": null,
   "metadata": {},
   "outputs": [],
   "source": []
  }
 ],
 "metadata": {
  "kernelspec": {
   "display_name": "Python 3",
   "language": "python",
   "name": "python3"
  },
  "language_info": {
   "codemirror_mode": {
    "name": "ipython",
    "version": 3
   },
   "file_extension": ".py",
   "mimetype": "text/x-python",
   "name": "python",
   "nbconvert_exporter": "python",
   "pygments_lexer": "ipython3",
   "version": "3.8.5"
  }
 },
 "nbformat": 4,
 "nbformat_minor": 4
}
